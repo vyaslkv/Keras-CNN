{
 "cells": [
  {
   "cell_type": "code",
   "execution_count": 1,
   "metadata": {},
   "outputs": [
    {
     "name": "stderr",
     "output_type": "stream",
     "text": [
      "Using TensorFlow backend.\n"
     ]
    }
   ],
   "source": [
    "from keras.models import Sequential #to initilize the NN\n",
    "from keras.layers import Convolution2D\n",
    "from keras.layers import MaxPooling2D\n",
    "from keras.layers import Flatten\n",
    "from keras.layers import Dense"
   ]
  },
  {
   "cell_type": "code",
   "execution_count": 2,
   "metadata": {},
   "outputs": [
    {
     "name": "stderr",
     "output_type": "stream",
     "text": [
      "C:\\Users\\sony\\AppData\\Local\\Continuum\\anaconda3\\envs\\devin97\\lib\\site-packages\\ipykernel_launcher.py:2: UserWarning: Update your `Conv2D` call to the Keras 2 API: `Conv2D(32, (3, 3), input_shape=(64, 64, 3..., activation=\"relu\")`\n",
      "  \n",
      "C:\\Users\\sony\\AppData\\Local\\Continuum\\anaconda3\\envs\\devin97\\lib\\site-packages\\ipykernel_launcher.py:6: UserWarning: Update your `Conv2D` call to the Keras 2 API: `Conv2D(32, (3, 3), activation=\"relu\")`\n",
      "  \n",
      "C:\\Users\\sony\\AppData\\Local\\Continuum\\anaconda3\\envs\\devin97\\lib\\site-packages\\ipykernel_launcher.py:9: UserWarning: Update your `Dense` call to the Keras 2 API: `Dense(activation=\"relu\", units=128)`\n",
      "  if __name__ == '__main__':\n",
      "C:\\Users\\sony\\AppData\\Local\\Continuum\\anaconda3\\envs\\devin97\\lib\\site-packages\\ipykernel_launcher.py:10: UserWarning: Update your `Dense` call to the Keras 2 API: `Dense(activation=\"sigmoid\", units=1)`\n",
      "  # Remove the CWD from sys.path while we load stuff.\n"
     ]
    }
   ],
   "source": [
    "classifier = Sequential()\n",
    "classifier.add(Convolution2D(32,3,3, input_shape=(64,64,3), activation='relu'))\n",
    "classifier.add(MaxPooling2D(pool_size=(2,2)))\n",
    "#adding 2nd convolution layer\n",
    "#number of feature detectors and dimentions of the feature detectors 32,3,3\n",
    "classifier.add(Convolution2D(32,3,3,  activation='relu'))\n",
    "classifier.add(MaxPooling2D(pool_size=(2,2)))\n",
    "classifier.add(Flatten())\n",
    "classifier.add(Dense(output_dim = 128, activation='relu')) #number of nodes , remember  not to take too less number of nodes\n",
    "classifier.add(Dense(output_dim = 1, activation='sigmoid')) #sigmoid because we have binary outcome cat or dog if more than that , we would have used softmax fun\n"
   ]
  },
  {
   "cell_type": "code",
   "execution_count": 3,
   "metadata": {},
   "outputs": [],
   "source": [
    "classifier.compile(optimizer='adam', loss='binary_crossentropy', metrics=['accuracy'])"
   ]
  },
  {
   "cell_type": "code",
   "execution_count": 4,
   "metadata": {},
   "outputs": [
    {
     "name": "stdout",
     "output_type": "stream",
     "text": [
      "Found 8000 images belonging to 2 classes.\n",
      "Found 2000 images belonging to 2 classes.\n",
      "Epoch 1/10\n",
      "8000/8000 [==============================] - 4870s 609ms/step - loss: 0.3506 - acc: 0.8363 - val_loss: 0.6065 - val_acc: 0.8125\n",
      "Epoch 2/10\n",
      "8000/8000 [==============================] - 4427s 553ms/step - loss: 0.0994 - acc: 0.9624 - val_loss: 0.9056 - val_acc: 0.8041\n",
      "Epoch 3/10\n",
      "8000/8000 [==============================] - 4302s 538ms/step - loss: 0.0511 - acc: 0.9819 - val_loss: 1.1039 - val_acc: 0.7965\n",
      "Epoch 4/10\n",
      "8000/8000 [==============================] - 4372s 546ms/step - loss: 0.0366 - acc: 0.9870 - val_loss: 1.0998 - val_acc: 0.8070\n",
      "Epoch 5/10\n",
      "8000/8000 [==============================] - 4665s 583ms/step - loss: 0.0293 - acc: 0.9900 - val_loss: 1.4131 - val_acc: 0.7905\n",
      "Epoch 6/10\n",
      "8000/8000 [==============================] - 4494s 562ms/step - loss: 0.0249 - acc: 0.9915 - val_loss: 1.3544 - val_acc: 0.7960\n",
      "Epoch 7/10\n",
      "8000/8000 [==============================] - 3944s 493ms/step - loss: 0.0222 - acc: 0.9927 - val_loss: 1.2985 - val_acc: 0.8062\n",
      "Epoch 8/10\n",
      "8000/8000 [==============================] - 3957s 495ms/step - loss: 0.0194 - acc: 0.9936 - val_loss: 1.4675 - val_acc: 0.8056\n",
      "Epoch 9/10\n",
      "8000/8000 [==============================] - 3942s 493ms/step - loss: 0.0164 - acc: 0.9945 - val_loss: 1.4646 - val_acc: 0.7990\n",
      "Epoch 10/10\n",
      "8000/8000 [==============================] - 3941s 493ms/step - loss: 0.0159 - acc: 0.9948 - val_loss: 1.3878 - val_acc: 0.7933\n"
     ]
    },
    {
     "data": {
      "text/plain": [
       "<keras.callbacks.History at 0x1d2783ba588>"
      ]
     },
     "execution_count": 4,
     "metadata": {},
     "output_type": "execute_result"
    }
   ],
   "source": [
    "#image preprocessing to prevent overfitting\n",
    "#image augmentation--------> By making the batches , by flipping , tilting the images to train\n",
    "from keras.preprocessing.image import ImageDataGenerator\n",
    "train_datagen = ImageDataGenerator(\n",
    "        rescale=1./255,\n",
    "        shear_range=0.2,\n",
    "        zoom_range=0.2,\n",
    "        horizontal_flip=True)\n",
    "\n",
    "test_datagen = ImageDataGenerator(rescale=1./255)\n",
    "\n",
    "training_set = train_datagen.flow_from_directory(\n",
    "                                                'E:/Python/A-Z/Convolutional_Neural_Networks/dataset/training_set',\n",
    "                                                target_size=(64, 64),\n",
    "                                                batch_size=32,\n",
    "                                                class_mode='binary')\n",
    "\n",
    "test_set = test_datagen.flow_from_directory(\n",
    "                                            'E:/Python/A-Z/Convolutional_Neural_Networks/dataset/test_set',\n",
    "                                            target_size=(64, 64),\n",
    "                                            batch_size=32,\n",
    "                                            class_mode='binary')\n",
    "\n",
    "classifier.fit_generator(\n",
    "                    training_set,\n",
    "                    steps_per_epoch=8000,\n",
    "                    epochs=10,\n",
    "                    validation_data=test_set,\n",
    "                    validation_steps=2000)\n"
   ]
  }
 ],
 "metadata": {
  "kernelspec": {
   "display_name": "Python 3",
   "language": "python",
   "name": "python3"
  },
  "language_info": {
   "codemirror_mode": {
    "name": "ipython",
    "version": 3
   },
   "file_extension": ".py",
   "mimetype": "text/x-python",
   "name": "python",
   "nbconvert_exporter": "python",
   "pygments_lexer": "ipython3",
   "version": "3.5.4"
  }
 },
 "nbformat": 4,
 "nbformat_minor": 2
}
